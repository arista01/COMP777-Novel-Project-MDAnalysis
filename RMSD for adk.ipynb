{
 "cells": [
  {
   "cell_type": "code",
   "execution_count": 1,
   "metadata": {},
   "outputs": [],
   "source": [
    "import matplotlib.pyplot as plt\n",
    "import MDAnalysis as mda\n",
    "import numpy as np\n",
    "import MDAnalysis\n",
    "from MDAnalysis.analysis import rms\n",
    "from MDAnalysis.tests.datafiles import PSF, DCD, GRO, XTC\n"
   ]
  },
  {
   "cell_type": "code",
   "execution_count": 2,
   "metadata": {},
   "outputs": [],
   "source": [
    "u = mda.Universe(PSF, DCD)"
   ]
  },
  {
   "cell_type": "code",
   "execution_count": 3,
   "metadata": {},
   "outputs": [
    {
     "data": {
      "text/plain": [
       "6.852774844656239"
      ]
     },
     "execution_count": 3,
     "metadata": {},
     "output_type": "execute_result"
    }
   ],
   "source": [
    "bb = u.select_atoms('backbone')\n",
    "\n",
    "u.trajectory[0] # first frame\n",
    "first = bb.positions\n",
    "\n",
    "u.trajectory[-1] #last frame\n",
    "last = bb.positions\n",
    "\n",
    "rms.rmsd(first, last)"
   ]
  },
  {
   "cell_type": "code",
   "execution_count": 4,
   "metadata": {},
   "outputs": [
    {
     "data": {
      "text/plain": [
       "<MDAnalysis.analysis.rms.RMSD at 0x27384243198>"
      ]
     },
     "execution_count": 4,
     "metadata": {},
     "output_type": "execute_result"
    }
   ],
   "source": [
    "ca = u.select_atoms('name CA')\n",
    "ca.write('calphas.gro')\n",
    "\n",
    "u.trajectory[0] # set to first frame\n",
    "rmsd_analysis = rms.RMSD(u, select='backbone', groupselections=['name CA', 'protein'])\n",
    "rmsd_analysis.run(verbose=True)"
   ]
  },
  {
   "cell_type": "code",
   "execution_count": 5,
   "metadata": {},
   "outputs": [
    {
     "name": "stdout",
     "output_type": "stream",
     "text": [
      "(98, 5)\n"
     ]
    }
   ],
   "source": [
    "print(rmsd_analysis.rmsd.shape)"
   ]
  },
  {
   "cell_type": "code",
   "execution_count": 6,
   "metadata": {},
   "outputs": [
    {
     "data": {
      "text/html": [
       "<div>\n",
       "<style scoped>\n",
       "    .dataframe tbody tr th:only-of-type {\n",
       "        vertical-align: middle;\n",
       "    }\n",
       "\n",
       "    .dataframe tbody tr th {\n",
       "        vertical-align: top;\n",
       "    }\n",
       "\n",
       "    .dataframe thead th {\n",
       "        text-align: right;\n",
       "    }\n",
       "</style>\n",
       "<table border=\"1\" class=\"dataframe\">\n",
       "  <thead>\n",
       "    <tr style=\"text-align: right;\">\n",
       "      <th></th>\n",
       "      <th>Backbone</th>\n",
       "      <th>C-alphas</th>\n",
       "      <th>Protein</th>\n",
       "    </tr>\n",
       "    <tr>\n",
       "      <th>Time (ps)</th>\n",
       "      <th></th>\n",
       "      <th></th>\n",
       "      <th></th>\n",
       "    </tr>\n",
       "  </thead>\n",
       "  <tbody>\n",
       "    <tr>\n",
       "      <td>1.0</td>\n",
       "      <td>5.834344e-07</td>\n",
       "      <td>4.263638e-08</td>\n",
       "      <td>5.443850e-08</td>\n",
       "    </tr>\n",
       "    <tr>\n",
       "      <td>2.0</td>\n",
       "      <td>4.636592e-01</td>\n",
       "      <td>4.235205e-01</td>\n",
       "      <td>6.934167e-01</td>\n",
       "    </tr>\n",
       "    <tr>\n",
       "      <td>3.0</td>\n",
       "      <td>6.419340e-01</td>\n",
       "      <td>5.939111e-01</td>\n",
       "      <td>8.748416e-01</td>\n",
       "    </tr>\n",
       "    <tr>\n",
       "      <td>4.0</td>\n",
       "      <td>7.743983e-01</td>\n",
       "      <td>7.371346e-01</td>\n",
       "      <td>1.052780e+00</td>\n",
       "    </tr>\n",
       "    <tr>\n",
       "      <td>5.0</td>\n",
       "      <td>8.588600e-01</td>\n",
       "      <td>8.279498e-01</td>\n",
       "      <td>1.154986e+00</td>\n",
       "    </tr>\n",
       "  </tbody>\n",
       "</table>\n",
       "</div>"
      ],
      "text/plain": [
       "               Backbone      C-alphas       Protein\n",
       "Time (ps)                                          \n",
       "1.0        5.834344e-07  4.263638e-08  5.443850e-08\n",
       "2.0        4.636592e-01  4.235205e-01  6.934167e-01\n",
       "3.0        6.419340e-01  5.939111e-01  8.748416e-01\n",
       "4.0        7.743983e-01  7.371346e-01  1.052780e+00\n",
       "5.0        8.588600e-01  8.279498e-01  1.154986e+00"
      ]
     },
     "execution_count": 6,
     "metadata": {},
     "output_type": "execute_result"
    }
   ],
   "source": [
    "import pandas as pd\n",
    "\n",
    "rmsd_df = pd.DataFrame(rmsd_analysis.rmsd[:, 2:],\n",
    "                       columns=['Backbone', 'C-alphas', 'Protein'],\n",
    "                       index=rmsd_analysis.rmsd[:, 1])\n",
    "rmsd_df.index.name = 'Time (ps)'\n",
    "rmsd_df.head()"
   ]
  },
  {
   "cell_type": "code",
   "execution_count": 7,
   "metadata": {
    "scrolled": true
   },
   "outputs": [
    {
     "data": {
      "text/plain": [
       "<matplotlib.axes._subplots.AxesSubplot at 0x2738a455ef0>"
      ]
     },
     "execution_count": 7,
     "metadata": {},
     "output_type": "execute_result"
    },
    {
     "data": {
      "image/png": "[encoded data removed]",
      "text/plain": [
       "<Figure size 432x288 with 1 Axes>"
      ]
     },
     "metadata": {
      "needs_background": "light"
     },
     "output_type": "display_data"
    }
   ],
   "source": [
    "rmsd_df.plot(title='RMSD for ADK')"
   ]
  },
  {
   "cell_type": "code",
   "execution_count": null,
   "metadata": {},
   "outputs": [],
   "source": []
  }
 ],
 "metadata": {
  "kernelspec": {
   "display_name": "Python 3",
   "language": "python",
   "name": "python3"
  },
  "language_info": {
   "codemirror_mode": {
    "name": "ipython",
    "version": 3
   },
   "file_extension": ".py",
   "mimetype": "text/x-python",
   "name": "python",
   "nbconvert_exporter": "python",
   "pygments_lexer": "ipython3",
   "version": "3.6.7"
  }
 },
 "nbformat": 4,
 "nbformat_minor": 2
}
