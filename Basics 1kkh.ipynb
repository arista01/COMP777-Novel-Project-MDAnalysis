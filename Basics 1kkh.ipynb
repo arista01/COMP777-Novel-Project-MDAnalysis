{
 "cells": [
  {
   "cell_type": "code",
   "execution_count": 3,
   "metadata": {},
   "outputs": [],
   "source": [
    "import MDAnalysis\n",
    "import MDAnalysis as mda\n"
   ]
  },
  {
   "cell_type": "code",
   "execution_count": 29,
   "metadata": {},
   "outputs": [],
   "source": [
    "#this sets the universe to the 1kkh file (1kkh.bb.1.pdb). \n",
    "u = MDAnalysis.Universe(\"C:\\\\Users\\\\Ari\\\\Downloads\\\\pcasuite\\\\1kkh.bb.1.pdb\")"
   ]
  },
  {
   "cell_type": "markdown",
   "metadata": {},
   "source": [
    "# SELECTING ATOMS"
   ]
  },
  {
   "cell_type": "code",
   "execution_count": 5,
   "metadata": {},
   "outputs": [
    {
     "name": "stdout",
     "output_type": "stream",
     "text": [
      "<ResidueGroup [<Residue PRO, 1>, <Residue ARG, 2>, <Residue GLY, 3>, ..., <Residue MET, 315>, <Residue MET, 316>, <Residue ASN, 317>]>\n"
     ]
    }
   ],
   "source": [
    "print(u.residues)"
   ]
  },
  {
   "cell_type": "code",
   "execution_count": 6,
   "metadata": {},
   "outputs": [
    {
     "data": {
      "text/plain": [
       "<AtomGroup with 1268 atoms>"
      ]
     },
     "execution_count": 6,
     "metadata": {},
     "output_type": "execute_result"
    }
   ],
   "source": [
    "u.atoms"
   ]
  },
  {
   "cell_type": "code",
   "execution_count": 7,
   "metadata": {},
   "outputs": [
    {
     "name": "stdout",
     "output_type": "stream",
     "text": [
      "<AtomGroup [<Atom 1264: O of type O of resname MET, resid 316 and segid SYSTEM and altLoc >, <Atom 1265: N of type N of resname ASN, resid 317 and segid SYSTEM and altLoc >, <Atom 1266: CA of type C of resname ASN, resid 317 and segid SYSTEM and altLoc >, <Atom 1267: C of type C of resname ASN, resid 317 and segid SYSTEM and altLoc >, <Atom 1268: O of type O of resname ASN, resid 317 and segid SYSTEM and altLoc >]>\n"
     ]
    }
   ],
   "source": [
    "last_five = u.atoms[-5:]\n",
    "print(last_five)"
   ]
  },
  {
   "cell_type": "code",
   "execution_count": 8,
   "metadata": {},
   "outputs": [
    {
     "name": "stdout",
     "output_type": "stream",
     "text": [
      "<AtomGroup [<Atom 1264: O of type O of resname MET, resid 316 and segid SYSTEM and altLoc >, <Atom 1267: C of type C of resname ASN, resid 317 and segid SYSTEM and altLoc >, <Atom 1268: O of type O of resname ASN, resid 317 and segid SYSTEM and altLoc >, <Atom 1265: N of type N of resname ASN, resid 317 and segid SYSTEM and altLoc >, <Atom 1267: C of type C of resname ASN, resid 317 and segid SYSTEM and altLoc >, <Atom 1264: O of type O of resname MET, resid 316 and segid SYSTEM and altLoc >]>\n"
     ]
    }
   ],
   "source": [
    "print(last_five[[0, 3, -1, 1, 3, 0]])"
   ]
  },
  {
   "cell_type": "code",
   "execution_count": 9,
   "metadata": {},
   "outputs": [
    {
     "name": "stdout",
     "output_type": "stream",
     "text": [
      "<AtomGroup [<Atom 33: N of type N of resname GLU, resid 9 and segid SYSTEM and altLoc >, <Atom 34: CA of type C of resname GLU, resid 9 and segid SYSTEM and altLoc >, <Atom 35: C of type C of resname GLU, resid 9 and segid SYSTEM and altLoc >, ..., <Atom 1226: CA of type C of resname ASP, resid 307 and segid SYSTEM and altLoc >, <Atom 1227: C of type C of resname ASP, resid 307 and segid SYSTEM and altLoc >, <Atom 1228: O of type O of resname ASP, resid 307 and segid SYSTEM and altLoc >]>\n"
     ]
    }
   ],
   "source": [
    "print(u.select_atoms('resname ASP or resname GLU'))"
   ]
  },
  {
   "cell_type": "code",
   "execution_count": 10,
   "metadata": {},
   "outputs": [
    {
     "name": "stdout",
     "output_type": "stream",
     "text": [
      "51\n",
      "50\n"
     ]
    }
   ],
   "source": [
    "print(u.select_atoms('resid 50-100').n_residues)\n",
    "print(u.residues[50:100].n_residues)"
   ]
  },
  {
   "cell_type": "code",
   "execution_count": 11,
   "metadata": {},
   "outputs": [
    {
     "data": {
      "text/plain": [
       "<AtomGroup with 8 atoms>"
      ]
     },
     "execution_count": 11,
     "metadata": {},
     "output_type": "execute_result"
    }
   ],
   "source": [
    "u.select_atoms(\"(resname GLU or resname HS*) and name CA and (resid 1:100)\")"
   ]
  },
  {
   "cell_type": "markdown",
   "metadata": {},
   "source": [
    "# Getting atom information from AtomGroups"
   ]
  },
  {
   "cell_type": "code",
   "execution_count": 12,
   "metadata": {},
   "outputs": [
    {
     "name": "stdout",
     "output_type": "stream",
     "text": [
      "['N' 'CA' 'C' 'O' 'N' 'CA' 'C' 'O' 'N' 'CA' 'C' 'O' 'N' 'CA' 'C' 'O' 'N'\n",
      " 'CA' 'C' 'O']\n"
     ]
    }
   ],
   "source": [
    "print(u.atoms[:20].names)"
   ]
  },
  {
   "cell_type": "code",
   "execution_count": 13,
   "metadata": {},
   "outputs": [
    {
     "name": "stdout",
     "output_type": "stream",
     "text": [
      "[12.011 15.999 14.007 12.011 12.011 15.999 14.007 12.011 12.011 15.999\n",
      " 14.007 12.011 12.011 15.999 14.007 12.011 12.011 15.999 14.007 12.011]\n"
     ]
    }
   ],
   "source": [
    "print(u.atoms[50:70].masses)"
   ]
  },
  {
   "cell_type": "code",
   "execution_count": 14,
   "metadata": {},
   "outputs": [
    {
     "name": "stdout",
     "output_type": "stream",
     "text": [
      "<ResidueGroup [<Residue PRO, 1>, <Residue ARG, 2>, <Residue GLY, 3>, <Residue SER, 4>, <Residue HID, 5>]>\n",
      "<SegmentGroup [<Segment SYSTEM>]>\n"
     ]
    }
   ],
   "source": [
    "print(u.atoms[:20].residues)\n",
    "print(u.atoms[-20:].segments)"
   ]
  },
  {
   "cell_type": "code",
   "execution_count": 15,
   "metadata": {},
   "outputs": [
    {
     "name": "stdout",
     "output_type": "stream",
     "text": [
      "['PRO' 'PRO' 'PRO' 'PRO' 'ARG' 'ARG' 'ARG' 'ARG' 'GLY' 'GLY' 'GLY' 'GLY'\n",
      " 'SER' 'SER' 'SER' 'SER' 'HID' 'HID' 'HID' 'HID']\n"
     ]
    }
   ],
   "source": [
    "print(u.atoms[:20].resnames)"
   ]
  },
  {
   "cell_type": "code",
   "execution_count": 16,
   "metadata": {},
   "outputs": [
    {
     "data": {
      "text/plain": [
       "{('HID', 'C'): <AtomGroup with 1 atom>,\n",
       " ('HID', 'O'): <AtomGroup with 1 atom>,\n",
       " ('VAL', 'N'): <AtomGroup with 1 atom>,\n",
       " ('ILE', 'N'): <AtomGroup with 1 atom>,\n",
       " ('LEU', 'C'): <AtomGroup with 1 atom>,\n",
       " ('SER', 'C'): <AtomGroup with 1 atom>,\n",
       " ('THR', 'N'): <AtomGroup with 1 atom>,\n",
       " ('ARG', 'C'): <AtomGroup with 1 atom>,\n",
       " ('ALA', 'N'): <AtomGroup with 1 atom>,\n",
       " ('ASN', 'N'): <AtomGroup with 1 atom>,\n",
       " ('TYR', 'C'): <AtomGroup with 1 atom>}"
      ]
     },
     "execution_count": 16,
     "metadata": {},
     "output_type": "execute_result"
    }
   ],
   "source": [
    "near_met = u.select_atoms('not resname MET and (around 2 resname MET)')\n",
    "near_met.groupby(['resnames', 'names'])"
   ]
  },
  {
   "cell_type": "markdown",
   "metadata": {},
   "source": [
    "# AtomGroup positions and methods"
   ]
  },
  {
   "cell_type": "code",
   "execution_count": 17,
   "metadata": {},
   "outputs": [
    {
     "name": "stdout",
     "output_type": "stream",
     "text": [
      "[[55.061 57.151 28.368]\n",
      " [54.028 59.072 25.929]\n",
      " [51.404 62.17  26.784]\n",
      " [50.094 61.823 30.246]\n",
      " [50.942 61.283 34.143]]\n",
      "(5, 3)\n"
     ]
    }
   ],
   "source": [
    "ca = u.select_atoms('resid 1-5 and name CA')\n",
    "print(ca.positions)\n",
    "print(ca.positions.shape)"
   ]
  },
  {
   "cell_type": "code",
   "execution_count": 18,
   "metadata": {},
   "outputs": [
    {
     "name": "stdout",
     "output_type": "stream",
     "text": [
      "[52.30580063 60.29980011 29.09400063]\n"
     ]
    }
   ],
   "source": [
    "print(ca.center_of_mass())"
   ]
  },
  {
   "cell_type": "code",
   "execution_count": 19,
   "metadata": {},
   "outputs": [
    {
     "name": "stdout",
     "output_type": "stream",
     "text": [
      "['N' 'CA' 'C']\n"
     ]
    }
   ],
   "source": [
    "nhh = u.atoms[:3]\n",
    "print(nhh.names)"
   ]
  },
  {
   "cell_type": "code",
   "execution_count": 20,
   "metadata": {},
   "outputs": [
    {
     "name": "stdout",
     "output_type": "stream",
     "text": [
      "125.91516212855296\n"
     ]
    }
   ],
   "source": [
    "angle_nhh = nhh.angle\n",
    "print(angle_nhh.value())"
   ]
  },
  {
   "cell_type": "code",
   "execution_count": 21,
   "metadata": {},
   "outputs": [
    {
     "name": "stdout",
     "output_type": "stream",
     "text": [
      "['CA' 'N' 'C']\n"
     ]
    }
   ],
   "source": [
    "hnh = u.atoms[[1, 0, 2]]\n",
    "print(hnh.names)"
   ]
  },
  {
   "cell_type": "code",
   "execution_count": 22,
   "metadata": {},
   "outputs": [
    {
     "name": "stdout",
     "output_type": "stream",
     "text": [
      "26.716769906748517\n"
     ]
    }
   ],
   "source": [
    "angle_hnh = hnh.angle\n",
    "print(angle_hnh.value())"
   ]
  },
  {
   "cell_type": "code",
   "execution_count": 28,
   "metadata": {},
   "outputs": [],
   "source": []
  },
  {
   "cell_type": "code",
   "execution_count": null,
   "metadata": {},
   "outputs": [],
   "source": []
  }
 ],
 "metadata": {
  "kernelspec": {
   "display_name": "Python 3",
   "language": "python",
   "name": "python3"
  },
  "language_info": {
   "codemirror_mode": {
    "name": "ipython",
    "version": 3
   },
   "file_extension": ".py",
   "mimetype": "text/x-python",
   "name": "python",
   "nbconvert_exporter": "python",
   "pygments_lexer": "ipython3",
   "version": "3.6.7"
  }
 },
 "nbformat": 4,
 "nbformat_minor": 2
}
